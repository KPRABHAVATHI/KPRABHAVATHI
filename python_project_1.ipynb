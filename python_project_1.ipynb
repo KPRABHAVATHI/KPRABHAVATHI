{
  "nbformat": 4,
  "nbformat_minor": 0,
  "metadata": {
    "colab": {
      "provenance": []
    },
    "kernelspec": {
      "name": "python3",
      "display_name": "Python 3"
    },
    "language_info": {
      "name": "python"
    }
  },
  "cells": [
    {
      "cell_type": "markdown",
      "source": [
        "Q1---You are working in a bank, and you have been given two lists of the employees who worked in 2021. Employees’ names in list 1 are Ramesh, Suresh, Mahesh, Ali, Jacob, and Saritha. List 2 contains the names of Ali, Mukesh, Mahesh, Jacob, Sai, and Sarita. Please write a program that helps to identify people who are common in both lists. Please do not use any in-built function. "
      ],
      "metadata": {
        "id": "EBf2XTHDjYhn"
      }
    },
    {
      "cell_type": "code",
      "execution_count": null,
      "metadata": {
        "colab": {
          "base_uri": "https://localhost:8080/"
        },
        "id": "9ApEcNtxjI1P",
        "outputId": "f99f23ac-8374-4df7-83ad-ecd83e78ac6b"
      },
      "outputs": [
        {
          "output_type": "stream",
          "name": "stdout",
          "text": [
            "{'Jacob', 'Ali', 'Mahesh'}\n"
          ]
        }
      ],
      "source": [
        "list1=[\"Ramesh\",\"Suresh\",\"Mahesh\",\"Ali\",\"Jacob\",\"Saritha\"]\n",
        "list2=[\"Ali\",\"Mukesh\",\"Mahesh\",\"Jacob\",\"Sai\",\"Sarita\"]\n",
        "print(set(list1)&set(list2))\n",
        "\n"
      ]
    },
    {
      "cell_type": "markdown",
      "source": [
        " Q2--While entering data, someone entered a few names as a common string “Ramesh Suresh Mohit”. Please write a program which separates all the names and converts them into a list. Once converted into a list, please write a program that adds their age. \n",
        "\n",
        "\n",
        "Ramesh:  25\n",
        "\n",
        "Suresh: 22\n",
        "\n",
        "Mohit: 26"
      ],
      "metadata": {
        "id": "Jc4a6n5u8CYU"
      }
    },
    {
      "cell_type": "code",
      "source": [
        "str=(\"Ramesh Suresh Mohit\")\n",
        "list_st=str.split()\n",
        "list_st2=[25,22,26]\n",
        "list_st3=zip(list_st,list_st2)\n",
        "dict(list_st3)\n"
      ],
      "metadata": {
        "colab": {
          "base_uri": "https://localhost:8080/"
        },
        "id": "V923BSet8Jnd",
        "outputId": "d360ef34-0c84-4c4b-b034-04c4525cced0"
      },
      "execution_count": null,
      "outputs": [
        {
          "output_type": "execute_result",
          "data": {
            "text/plain": [
              "{'Ramesh': 25, 'Suresh': 22, 'Mohit': 26}"
            ]
          },
          "metadata": {},
          "execution_count": 1
        }
      ]
    },
    {
      "cell_type": "markdown",
      "source": [
        "Q3: You are working in a medical store. A patient came to your medical store and asked to buy 2 strips of paracetamol, 3 strips of azithromycin, and 5 strips of Vitamin C. One strip of paracetamol costs Rs 35, one strip of azithromycin costs Rs 49, and one strip of vitamin c costs Rs. 33. Patient gave you Rs 2000. Please tell us what is the total cost of each medicine, the total cost of all medicine, and how much money you refunded to the patient.  "
      ],
      "metadata": {
        "id": "SrE8z7sfSi_s"
      }
    },
    {
      "cell_type": "code",
      "source": [
        "paracetamol=2*35\n",
        "print(\"total cost of paracetamol is\",paracetamol)\n",
        "azithromycin=3*49\n",
        "print(\"total cost of azithromycin is\",azithromycin)\n",
        "vitamin_c=5*33\n",
        "print(\"total cost of vitamin_c is\",vitamin_c)\n",
        "total=paracetamol+azithromycin+vitamin_c\n",
        "print(\"total cost of medicine is\",total)\n",
        "refund=2000-total\n",
        "print(\"money refunded to patient\",refund)\n"
      ],
      "metadata": {
        "colab": {
          "base_uri": "https://localhost:8080/"
        },
        "id": "xkNYM2ftSlFX",
        "outputId": "e63dd606-cdc7-4310-e927-f07c48a97da2"
      },
      "execution_count": null,
      "outputs": [
        {
          "output_type": "stream",
          "name": "stdout",
          "text": [
            "total cost of paracetamol is 70\n",
            "total cost of azithromycin is 147\n",
            "total cost of vitamin_c is 165\n",
            "total cost of medicine is 382\n",
            "money refunded to patient 1618\n"
          ]
        }
      ]
    },
    {
      "cell_type": "markdown",
      "source": [
        "Q4--Accept a sentence as input and find the number of vowels in it. Assume that the sentence has no punctuation marks. For example, I am learning python contains 6 vowels. This function should be applicable for all other different sentences."
      ],
      "metadata": {
        "id": "ybPlyDKqpQWy"
      }
    },
    {
      "cell_type": "code",
      "source": [
        "s=int=\"i am new to python but learning very fast\"\n",
        "v=['a','e','i','o','u']\n",
        "count=0\n",
        "for c in s:\n",
        "  if c in v:\n",
        "    count+=1\n",
        "    print(\"vowel in the string is\",c)\n",
        "print(\"total number of vowels in string\",count)\n",
        "  \n",
        "  \n"
      ],
      "metadata": {
        "colab": {
          "base_uri": "https://localhost:8080/"
        },
        "id": "2O5PmaTrpaWO",
        "outputId": "6f943260-18cd-4b71-c585-c913b446299e"
      },
      "execution_count": null,
      "outputs": [
        {
          "output_type": "stream",
          "name": "stdout",
          "text": [
            "vowel in the string is i\n",
            "vowel in the string is a\n",
            "vowel in the string is e\n",
            "vowel in the string is o\n",
            "vowel in the string is o\n",
            "vowel in the string is u\n",
            "vowel in the string is e\n",
            "vowel in the string is a\n",
            "vowel in the string is i\n",
            "vowel in the string is e\n",
            "vowel in the string is a\n",
            "total number of vowels in string 11\n"
          ]
        }
      ]
    },
    {
      "cell_type": "markdown",
      "source": [
        "Q5--You have been appointed by the election commission to create a website. Your first task is to work on a program which tells candidates if they are eligible for voting or not. If they are eligible, your output should be ‘Congrats! You are eligible’; otherwise, it should tell that you have to return after X number of years. The eligibility criteria for voting is 18 years. \n",
        "\n",
        "\n",
        "For example, If someone is 18 or above, your output should be ‘Congrats! You are eligible’. If someone’s age is 15 years, it should print output as ‘return after 3 years’.   \n",
        "\n"
      ],
      "metadata": {
        "id": "ZtAzf1nHyPzz"
      }
    },
    {
      "cell_type": "code",
      "source": [
        "age = int(input(\"Please enter your age:\"))\n",
        "x=0\n",
        "if (age>=18):\n",
        "   print(\"you are eligible for voting\")\n",
        "elif age<=18:\n",
        "  x=18-age\n",
        "  print('you are not eligible for voting the difference of age in years is',x)"
      ],
      "metadata": {
        "colab": {
          "base_uri": "https://localhost:8080/"
        },
        "id": "nfWcLIVh5YJP",
        "outputId": "fbf2c342-9299-4d95-899f-9d32d8659bd7"
      },
      "execution_count": null,
      "outputs": [
        {
          "output_type": "stream",
          "name": "stdout",
          "text": [
            "Please enter your age:14\n",
            "you are not eligible for voting the difference of age in years is 4\n"
          ]
        }
      ]
    },
    {
      "cell_type": "markdown",
      "source": [
        "Q6-- Longest Increasing Subsequence\n",
        "\n",
        "Given an unsorted array of integers, find the length of the longest increasing subsequence (LIS).\n",
        "\n",
        "Example:\n",
        "\n",
        "Input: [10,9,2,5,3,7,101,18]\n",
        "\n",
        "Output: 4"
      ],
      "metadata": {
        "id": "yxnvKKFC97o7"
      }
    },
    {
      "cell_type": "code",
      "source": [
        "def lis(arr):\n",
        "    n = len(arr)\n",
        "    lis = [1]*n\n",
        "    for i in range (1, n):\n",
        "        for j in range(0, i):\n",
        "            if arr[i] > arr[j] and lis[i]< lis[j] + 1 :\n",
        "                lis[i] = lis[j]+1\n",
        "        maximum = 0\n",
        "    for i in range(n):\n",
        "        maximum = max(maximum, lis[i])\n",
        " \n",
        "    return maximum\n",
        "arr = [10,9,2,5,3,7,101,18]\n",
        "print (\"Length of lis is\", lis(arr))"
      ],
      "metadata": {
        "colab": {
          "base_uri": "https://localhost:8080/"
        },
        "id": "yXF_oQYxpt_S",
        "outputId": "e7b3af4d-84ee-4fa1-a388-18668881ea6e"
      },
      "execution_count": null,
      "outputs": [
        {
          "output_type": "stream",
          "name": "stdout",
          "text": [
            "Length of lis is 4\n"
          ]
        }
      ]
    }
  ]
}
